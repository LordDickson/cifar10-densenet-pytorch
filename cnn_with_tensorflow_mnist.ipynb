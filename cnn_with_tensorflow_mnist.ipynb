{
  "nbformat": 4,
  "nbformat_minor": 0,
  "metadata": {
    "colab": {
      "name": "cnn_with tensorflow mnist.ipynb",
      "provenance": [],
      "authorship_tag": "ABX9TyNH/9rWFMo3bdN5bXX+6v9e",
      "include_colab_link": true
    },
    "kernelspec": {
      "name": "python3",
      "display_name": "Python 3"
    },
    "accelerator": "GPU"
  },
  "cells": [
    {
      "cell_type": "markdown",
      "metadata": {
        "id": "view-in-github",
        "colab_type": "text"
      },
      "source": [
        "<a href=\"https://colab.research.google.com/github/LordDickson/cifar10-densenet-pytorch/blob/master/cnn_with_tensorflow_mnist.ipynb\" target=\"_parent\"><img src=\"https://colab.research.google.com/assets/colab-badge.svg\" alt=\"Open In Colab\"/></a>"
      ]
    },
    {
      "cell_type": "code",
      "metadata": {
        "id": "gPUVC-4C-Jk7",
        "colab_type": "code",
        "colab": {
          "base_uri": "https://localhost:8080/",
          "height": 52
        },
        "outputId": "5f4dba44-02e8-4bcc-e1a4-546d8d42eb7b"
      },
      "source": [
        "#import libraries\n",
        "import numpy as np\n",
        "import matplotlib.pyplot as plt\n",
        "import tensorflow as tf\n",
        "from keras import models, layers\n",
        "import cv2 as cv\n",
        "\n",
        "tf.__version__"
      ],
      "execution_count": 1,
      "outputs": [
        {
          "output_type": "stream",
          "text": [
            "Using TensorFlow backend.\n"
          ],
          "name": "stderr"
        },
        {
          "output_type": "execute_result",
          "data": {
            "text/plain": [
              "'2.2.0-rc2'"
            ]
          },
          "metadata": {
            "tags": []
          },
          "execution_count": 1
        }
      ]
    },
    {
      "cell_type": "code",
      "metadata": {
        "id": "9Wq6kigo-nbi",
        "colab_type": "code",
        "colab": {
          "base_uri": "https://localhost:8080/",
          "height": 52
        },
        "outputId": "d9bcaf3e-deb7-4925-9db3-f7da4eb8685d"
      },
      "source": [
        "#import mnist dataset\n",
        "mnist = tf.keras.datasets.mnist\n",
        "\n",
        "#split training and test datasets\n",
        "(x_train, y_train), (x_test, y_test) = mnist.load_data()\n",
        "\n",
        "#normalize dataset using simple normalization\n",
        "x_train = x_train/255.0\n",
        "x_test = x_test/255.0\n",
        "\n",
        "#reshape the dataset for training purpose \n",
        "x_train = x_train.reshape((-1, 28, 28, 1))\n",
        "x_test = x_test.reshape((-1, 28, 28, 1))\n",
        "\n",
        "#get the input width and height of the image\n",
        "width = x_train.shape[-3]\n",
        "height = x_train.shape[-2]\n"
      ],
      "execution_count": 2,
      "outputs": [
        {
          "output_type": "stream",
          "text": [
            "Downloading data from https://storage.googleapis.com/tensorflow/tf-keras-datasets/mnist.npz\n",
            "11493376/11490434 [==============================] - 0s 0us/step\n"
          ],
          "name": "stdout"
        }
      ]
    },
    {
      "cell_type": "code",
      "metadata": {
        "id": "zPBK6-GYAALJ",
        "colab_type": "code",
        "colab": {
          "base_uri": "https://localhost:8080/",
          "height": 264
        },
        "outputId": "6eeb69c2-a3ed-4144-c55e-63e88990cd04"
      },
      "source": [
        "#preview an image\n",
        "plt.imshow(x_train[1].reshape((28, 28)), cmap=\"Greys\")\n",
        "plt.show()"
      ],
      "execution_count": 3,
      "outputs": [
        {
          "output_type": "display_data",
          "data": {
            "image/png": "[encoded data removed]",
            "text/plain": [
              "<Figure size 432x288 with 1 Axes>"
            ]
          },
          "metadata": {
            "tags": [],
            "needs_background": "light"
          }
        }
      ]
    },
    {
      "cell_type": "code",
      "metadata": {
        "id": "v-ON1fTDATnw",
        "colab_type": "code",
        "colab": {
          "base_uri": "https://localhost:8080/",
          "height": 514
        },
        "outputId": "c57e219f-247b-405b-e0c5-96cdd53116a7"
      },
      "source": [
        "#Build the model\n",
        "# conv2d->pooling->dropout->conv2d->pooling->dropout->conv2d->pooling->flatten->fully-connected\n",
        "\n",
        "model = models.Sequential() #add placeholder\n",
        "\n",
        "model.add(layers.Conv2D(32, kernel_size=(3, 3), padding='same', activation = 'relu', input_shape=(width, height, 1))) #add a convolutional layer with same padding and relu\n",
        "model.add(layers.MaxPool2D(pool_size=(2, 2))) #add max pooling layer\n",
        "\n",
        "model.add(layers.Dropout(0.5)) #add a dropout layer\n",
        "\n",
        "model.add(layers.Conv2D(64, kernel_size=(3, 3), padding='same', activation = 'relu')) #add second conv layer\n",
        "model.add(layers.MaxPool2D(pool_size=(2,2))) #max pooling layer\n",
        "\n",
        "model.add(layers.Dropout(0.5)) #dropout\n",
        "\n",
        "model.add(layers.Conv2D(128, kernel_size=(3, 3), padding=\"same\", activation='relu')) #add third conv layer\n",
        "model.add(layers.MaxPool2D(pool_size=(2,2))) #max pooling layer\n",
        "\n",
        "model.add(layers.Flatten())\n",
        "model.add(layers.Dense(10, activation='softmax'))\n",
        "\n",
        "model.compile(optimizer='adam', \n",
        "              loss='sparse_categorical_crossentropy',\n",
        "              metrics=['accuracy'])\n",
        "\n",
        "model.summary()"
      ],
      "execution_count": 4,
      "outputs": [
        {
          "output_type": "stream",
          "text": [
            "Model: \"sequential_1\"\n",
            "_________________________________________________________________\n",
            "Layer (type)                 Output Shape              Param #   \n",
            "=================================================================\n",
            "conv2d_1 (Conv2D)            (None, 28, 28, 32)        320       \n",
            "_________________________________________________________________\n",
            "max_pooling2d_1 (MaxPooling2 (None, 14, 14, 32)        0         \n",
            "_________________________________________________________________\n",
            "dropout_1 (Dropout)          (None, 14, 14, 32)        0         \n",
            "_________________________________________________________________\n",
            "conv2d_2 (Conv2D)            (None, 14, 14, 64)        18496     \n",
            "_________________________________________________________________\n",
            "max_pooling2d_2 (MaxPooling2 (None, 7, 7, 64)          0         \n",
            "_________________________________________________________________\n",
            "dropout_2 (Dropout)          (None, 7, 7, 64)          0         \n",
            "_________________________________________________________________\n",
            "conv2d_3 (Conv2D)            (None, 7, 7, 128)         73856     \n",
            "_________________________________________________________________\n",
            "max_pooling2d_3 (MaxPooling2 (None, 3, 3, 128)         0         \n",
            "_________________________________________________________________\n",
            "flatten_1 (Flatten)          (None, 1152)              0         \n",
            "_________________________________________________________________\n",
            "dense_1 (Dense)              (None, 10)                11530     \n",
            "=================================================================\n",
            "Total params: 104,202\n",
            "Trainable params: 104,202\n",
            "Non-trainable params: 0\n",
            "_________________________________________________________________\n"
          ],
          "name": "stdout"
        }
      ]
    },
    {
      "cell_type": "code",
      "metadata": {
        "id": "HiGbxYGYBSuI",
        "colab_type": "code",
        "colab": {
          "base_uri": "https://localhost:8080/",
          "height": 390
        },
        "outputId": "ffed122c-278c-4812-ea51-3c585800bd38"
      },
      "source": [
        "#train the model using 10 epochs\n",
        "model.fit(x_train, y_train, epochs = 10)"
      ],
      "execution_count": 5,
      "outputs": [
        {
          "output_type": "stream",
          "text": [
            "Epoch 1/10\n",
            "60000/60000 [==============================] - 15s 246us/step - loss: 0.2350 - accuracy: 0.9241\n",
            "Epoch 2/10\n",
            "60000/60000 [==============================] - 8s 130us/step - loss: 0.0815 - accuracy: 0.9750\n",
            "Epoch 3/10\n",
            "60000/60000 [==============================] - 8s 130us/step - loss: 0.0646 - accuracy: 0.9797\n",
            "Epoch 4/10\n",
            "60000/60000 [==============================] - 8s 128us/step - loss: 0.0590 - accuracy: 0.9809\n",
            "Epoch 5/10\n",
            "60000/60000 [==============================] - 8s 128us/step - loss: 0.0514 - accuracy: 0.9838\n",
            "Epoch 6/10\n",
            "60000/60000 [==============================] - 8s 131us/step - loss: 0.0467 - accuracy: 0.9855\n",
            "Epoch 7/10\n",
            "60000/60000 [==============================] - 8s 131us/step - loss: 0.0444 - accuracy: 0.9856\n",
            "Epoch 8/10\n",
            "60000/60000 [==============================] - 8s 130us/step - loss: 0.0425 - accuracy: 0.9866\n",
            "Epoch 9/10\n",
            "60000/60000 [==============================] - 8s 128us/step - loss: 0.0412 - accuracy: 0.9866\n",
            "Epoch 10/10\n",
            "60000/60000 [==============================] - 8s 128us/step - loss: 0.0388 - accuracy: 0.9878\n"
          ],
          "name": "stdout"
        },
        {
          "output_type": "execute_result",
          "data": {
            "text/plain": [
              "<keras.callbacks.callbacks.History at 0x7f20c00a0ba8>"
            ]
          },
          "metadata": {
            "tags": []
          },
          "execution_count": 5
        }
      ]
    },
    {
      "cell_type": "code",
      "metadata": {
        "id": "-C3osA1NB99P",
        "colab_type": "code",
        "colab": {
          "base_uri": "https://localhost:8080/",
          "height": 70
        },
        "outputId": "584a4e66-90bf-4004-aea8-e9dab26049ec"
      },
      "source": [
        "test_loss, test_acc = model.evaluate(x_test, y_test)\n",
        "\n",
        "print(\"Test Loss :\", test_loss)\n",
        "print(\"Test Accuracy :\", test_acc)"
      ],
      "execution_count": 6,
      "outputs": [
        {
          "output_type": "stream",
          "text": [
            "10000/10000 [==============================] - 1s 72us/step\n",
            "Test Loss : 0.02322346415273205\n",
            "Test Accuracy : 0.9926000237464905\n"
          ],
          "name": "stdout"
        }
      ]
    },
    {
      "cell_type": "code",
      "metadata": {
        "id": "Z9DLyWdsC6CB",
        "colab_type": "code",
        "colab": {
          "base_uri": "https://localhost:8080/",
          "height": 282
        },
        "outputId": "0bf844d5-bfc5-47c8-d7db-704e3319d85f"
      },
      "source": [
        "#make a prediction \n",
        "image_index = 100\n",
        "plt.imshow(x_test[image_index].reshape(width, height),cmap='Greys')\n",
        "pred = model.predict(x_test[image_index].reshape(1, width, height, 1))\n",
        "print(\"Our algorithm predicts: \", pred.argmax())"
      ],
      "execution_count": 8,
      "outputs": [
        {
          "output_type": "stream",
          "text": [
            "Our algorithm predicts:  6\n"
          ],
          "name": "stdout"
        },
        {
          "output_type": "display_data",
          "data": {
            "image/png": "[encoded data removed]",
            "text/plain": [
              "<Figure size 432x288 with 1 Axes>"
            ]
          },
          "metadata": {
            "tags": [],
            "needs_background": "light"
          }
        }
      ]
    },
    {
      "cell_type": "code",
      "metadata": {
        "id": "BGM-Bd3LJPu9",
        "colab_type": "code",
        "colab": {
          "base_uri": "https://localhost:8080/",
          "height": 34
        },
        "outputId": "9ad0eae4-3ac7-485e-b831-adcbfedb5a5d"
      },
      "source": [
        "x_train.shape[0] + x_test.shape[0]"
      ],
      "execution_count": 9,
      "outputs": [
        {
          "output_type": "execute_result",
          "data": {
            "text/plain": [
              "70000"
            ]
          },
          "metadata": {
            "tags": []
          },
          "execution_count": 9
        }
      ]
    },
    {
      "cell_type": "code",
      "metadata": {
        "id": "TUlkcTIMHLLD",
        "colab_type": "code",
        "colab": {
          "base_uri": "https://localhost:8080/",
          "height": 34
        },
        "outputId": "69ad7c1b-1285-4c89-ab92-6f70c877176a"
      },
      "source": [
        "y_train.shape[0] + y_test.shape[0]"
      ],
      "execution_count": 10,
      "outputs": [
        {
          "output_type": "execute_result",
          "data": {
            "text/plain": [
              "70000"
            ]
          },
          "metadata": {
            "tags": []
          },
          "execution_count": 10
        }
      ]
    },
    {
      "cell_type": "code",
      "metadata": {
        "id": "PR4BjA1THQaZ",
        "colab_type": "code",
        "colab": {}
      },
      "source": [
        ""
      ],
      "execution_count": 0,
      "outputs": []
    }
  ]
}