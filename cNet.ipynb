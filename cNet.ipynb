{
 "cells": [
  {
   "cell_type": "code",
   "execution_count": 6,
   "metadata": {},
   "outputs": [
    {
     "data": {
      "text/plain": [
       "tensor([[-0.0966,  0.0014,  0.0618,  0.0884,  0.0410, -0.1008, -0.0965,  0.0502,\n",
       "          0.0599, -0.0166]], grad_fn=<AddmmBackward>)"
      ]
     },
     "execution_count": 6,
     "metadata": {},
     "output_type": "execute_result"
    }
   ],
   "source": [
    "import torch as tc\n",
    "import torch.nn as nn\n",
    "import torch.nn.functional as F\n",
    "\n",
    "# define the CNN architecture\n",
    "class Net(nn.Module):\n",
    "    def __init__(self):\n",
    "        super(Net, self).__init__()\n",
    "        \n",
    "        #create three convolutional layers convolutional layers (3->16)->(16->32)->(32->64)\n",
    "        #(in_channels, out_channels, kernel_size, padding) stride ommitted\n",
    "        #kernel_size is set at 3 for RGB we use conv2d for 2d images. Padding = (kernel_size - 1)//2        \n",
    "        self.conv1 = nn.Conv2d(3, 16, 3, padding=1, stride=1, bias = False)       \n",
    "        self.conv2 = nn.Conv2d(16, 32, 3, padding=1, stride=1, bias = False)        \n",
    "        self.conv3 = nn.Conv2d(32, 64, 3, padding=1, stride=1, bias = False)\n",
    "        \n",
    "        # create the max pooling layer\n",
    "        self.pool = nn.MaxPool2d(2, 2)\n",
    "        \n",
    "        #the linear layers (fully connected layers) 1024->500->10\n",
    "        self.fc1 = nn.Linear(1024, 500)\n",
    "        self.fc2 = nn.Linear(500, 10)\n",
    "        \n",
    "        #add a dropout to reduce overfitting\n",
    "        self.dropout = nn.Dropout(0.25)\n",
    "\n",
    "    def forward(self, x):\n",
    "        # add sequence of convolutional and max pooling layers\n",
    "        x = self.pool(F.relu(self.conv1(x)))\n",
    "        x = self.pool(F.relu(self.conv2(x)))\n",
    "        x = self.pool(F.relu(self.conv3(x)))\n",
    "        \n",
    "        # flatten image input\n",
    "        x = x.view(-1, 1024)        \n",
    "        # add dropout layer\n",
    "        x = self.dropout(x)\n",
    "        # add 1st hidden layer, with relu activation function\n",
    "        x = F.relu(self.fc1(x))\n",
    "        # add dropout layer\n",
    "        x = self.dropout(x)\n",
    "        # add 2nd hidden layer, with relu activation function\n",
    "        x = self.fc2(x)\n",
    "        return x\n",
    "\n",
    "def convNet():\n",
    "    return Net()\n",
    "\n",
    "def check():\n",
    "    model = convNet()\n",
    "    x = tc.randn(1, 3, 32, 32)\n",
    "    y = model(x)\n",
    "    return y\n",
    "check()"
   ]
  },
  {
   "cell_type": "code",
   "execution_count": null,
   "metadata": {
    "collapsed": true
   },
   "outputs": [],
   "source": []
  }
 ],
 "metadata": {
  "kernelspec": {
   "display_name": "Python 3",
   "language": "python",
   "name": "python3"
  },
  "language_info": {
   "codemirror_mode": {
    "name": "ipython",
    "version": 3
   },
   "file_extension": ".py",
   "mimetype": "text/x-python",
   "name": "python",
   "nbconvert_exporter": "python",
   "pygments_lexer": "ipython3",
   "version": "3.6.3"
  }
 },
 "nbformat": 4,
 "nbformat_minor": 2
}
