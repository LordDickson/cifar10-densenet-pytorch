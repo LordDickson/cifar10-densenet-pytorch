{
 "cells": [
  {
   "cell_type": "code",
   "execution_count": 40,
   "metadata": {
    "collapsed": true
   },
   "outputs": [],
   "source": [
    "import torch as tc, sys, math\n",
    "from torch import nn\n",
    "from torch import optim\n",
    "from torch.nn import functional as F\n",
    "from torch.autograd import Variable\n",
    "from torchvision import datasets, transforms\n",
    "from torch.utils.data import DataLoader\n",
    "from torchvision import models"
   ]
  },
  {
   "cell_type": "code",
   "execution_count": 41,
   "metadata": {
    "collapsed": true
   },
   "outputs": [],
   "source": [
    "class Bottleneck(nn.Module):\n",
    "    def __init__(self, num_channels, growth_rate):\n",
    "        super(Bottleneck, self).__init__()\n",
    "        inter_channels     = 4*growth_rate\n",
    "        self.batch_norm1   = nn.BatchNorm2d(num_channels)\n",
    "        self.conv1         = nn.Conv2d(num_channels, inter_channels, kernel_size = 1, bias = False)\n",
    "        self.batch_norm2   = nn.BatchNorm2d(inter_channels)\n",
    "        self.conv2         = nn.Conv2d(inter_channels, growth_rate, kernel_size = 3, padding = 1, bias = False)\n",
    "    \n",
    "    def forward(self, x):\n",
    "        output = self.conv1(F.relu(self.batch_norm1(x)))\n",
    "        output = self.conv2(F.relu(self.batch_norm2(output)))\n",
    "        output = tc.cat((x, output), 1)\n",
    "        return output"
   ]
  },
  {
   "cell_type": "code",
   "execution_count": 42,
   "metadata": {
    "collapsed": true
   },
   "outputs": [],
   "source": [
    "class SingleLayer(nn.Module):\n",
    "    def __init__(self, num_channels, growth_rate):\n",
    "        super(SingleLayer, self).__init__()\n",
    "        self.batch_norm = nn.BatchNorm2d(num_channels)\n",
    "        self.conv       = nn.Conv2d(num_channels, growth_rate, kernel_size = 3, padding = 1, bias = False)\n",
    "        \n",
    "    def forward(self, x):\n",
    "        return tc.cat((x, self.conv(F.relu(self.batch_norm(x)))), 1)\n",
    "        "
   ]
  },
  {
   "cell_type": "code",
   "execution_count": 43,
   "metadata": {
    "collapsed": true
   },
   "outputs": [],
   "source": [
    "class Transition(nn.Module):\n",
    "    def __init__(self, num_channels, num_out_channels):\n",
    "        super(Transition, self).__init__()\n",
    "        self.batch_norm = nn.BatchNorm2d(num_channels)\n",
    "        self.conv       = nn.Conv2d(num_channels, num_out_channels, kernel_size = 1, bias = False)\n",
    "        \n",
    "    def forward(self, x):\n",
    "        return F.avg_pool2d(self.conv(F.relu(self.batch_norm(x))), 2)\n",
    "        "
   ]
  },
  {
   "cell_type": "code",
   "execution_count": 44,
   "metadata": {
    "collapsed": true
   },
   "outputs": [],
   "source": [
    "class DenseNet(nn.Module):\n",
    "    def __init__(self, bottleneck, num_blocks, growth_rate = 12, reduction = 0.5, num_classes = 10):\n",
    "        super(DenseNet, self).__init__()        \n",
    "        \n",
    "        self.growth_rate = growth_rate\n",
    "        num_channels = 2 * growth_rate\n",
    "        \n",
    "        self.conv    = nn.Conv2d(3, num_channels, kernel_size = 3, padding = 1, bias = False)\n",
    "        self.dense1  = self._make_dense(num_channels, num_blocks[0], bottleneck)\n",
    "        num_channels += num_blocks[0] * growth_rate\n",
    "        num_out_channels = int(math.floor(num_channels * reduction))\n",
    "        self.trans1  = Transition(num_channels, num_out_channels)       \n",
    "        num_channels = num_out_channels\n",
    "        \n",
    "        self.dense2  = self._make_dense(num_channels, num_blocks[1], bottleneck)\n",
    "        num_channels += num_blocks[1] * growth_rate\n",
    "        num_out_channels = int(math.floor(num_channels * reduction))\n",
    "        self.trans2  = Transition(num_channels, num_out_channels)       \n",
    "        num_channels = num_out_channels\n",
    "        \n",
    "        self.dense3  = self._make_dense(num_channels, num_blocks[2], bottleneck)\n",
    "        num_channels += num_blocks[2] * growth_rate\n",
    "        num_out_channels = int(math.floor(num_channels * reduction))\n",
    "        self.trans3  = Transition(num_channels, num_out_channels)       \n",
    "        num_channels = num_out_channels\n",
    "        \n",
    "        self.dense4  = self._make_dense(num_channels, num_blocks[3], bottleneck)\n",
    "        num_channels += num_blocks[3] * growth_rate        \n",
    "        self.batch_norm = nn.BatchNorm2d(num_channels)\n",
    "        self.fc = nn.Linear(num_channels, num_classes)                \n",
    "    \n",
    "    def _make_dense(self, num_channels, num_blocks, bottleneck):\n",
    "        layers = []\n",
    "        for block in range(int(num_blocks)):\n",
    "            if bottleneck:\n",
    "                layers.append(Bottleneck(num_channels, self.growth_rate))\n",
    "            else:\n",
    "                layers.append(SingleLayer(num_channels, self.growth_rate))\n",
    "            num_channels += self.growth_rate\n",
    "        return nn.Sequential(*layers)\n",
    "    \n",
    "    def forward(self, x):\n",
    "        x = self.conv(x)\n",
    "        x = self.trans1(self.dense1(x))\n",
    "        x = self.trans2(self.dense2(x))\n",
    "        x = self.trans3(self.dense3(x))\n",
    "        x = self.dense4(x)\n",
    "        x = F.avg_pool2d(F.relu(self.batch_norm(x)), 4)\n",
    "        x = x.view(x.size(0), -1)\n",
    "        x = self.fc(x)\n",
    "        return x\n",
    "\n"
   ]
  },
  {
   "cell_type": "code",
   "execution_count": 45,
   "metadata": {},
   "outputs": [
    {
     "data": {
      "text/plain": [
       "tensor([[ 0.3411, -0.0695,  0.1289, -0.1565,  0.2002, -0.0652, -0.1514, -0.0220,\n",
       "          0.3215,  0.0416]], grad_fn=<AddmmBackward>)"
      ]
     },
     "execution_count": 45,
     "metadata": {},
     "output_type": "execute_result"
    }
   ],
   "source": [
    "def denseNet():\n",
    "    return DenseNet(Bottleneck, [6,12,24,16], growth_rate=12)\n",
    "\n",
    "def check():\n",
    "    model = denseNet()\n",
    "    x = tc.randn(1, 3, 32, 32)\n",
    "    y = model(x)\n",
    "    return y\n",
    "check()"
   ]
  },
  {
   "cell_type": "code",
   "execution_count": null,
   "metadata": {
    "collapsed": true
   },
   "outputs": [],
   "source": []
  }
 ],
 "metadata": {
  "kernelspec": {
   "display_name": "Python 3",
   "language": "python",
   "name": "python3"
  },
  "language_info": {
   "codemirror_mode": {
    "name": "ipython",
    "version": 3
   },
   "file_extension": ".py",
   "mimetype": "text/x-python",
   "name": "python",
   "nbconvert_exporter": "python",
   "pygments_lexer": "ipython3",
   "version": "3.6.3"
  }
 },
 "nbformat": 4,
 "nbformat_minor": 2
}
